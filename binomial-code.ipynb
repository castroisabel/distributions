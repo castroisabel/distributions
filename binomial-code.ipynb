{
 "cells": [
  {
   "cell_type": "code",
   "execution_count": 2,
   "metadata": {},
   "outputs": [],
   "source": [
    "import math\n",
    "import matplotlib.pyplot as plt"
   ]
  },
  {
   "cell_type": "code",
   "execution_count": 49,
   "metadata": {},
   "outputs": [],
   "source": [
    "class Binomial():\n",
    "    \"\"\" Binomial distribution class for calculating and \n",
    "    visualizing a Binomial distribution.\n",
    "    \n",
    "    Attributes:\n",
    "        mean (float) the mean value\n",
    "        stdev (float) the standard deviation\n",
    "        data_list (list of floats) a list of floats extracted from the data file\n",
    "        p (float) the probability of an event occurring\n",
    "        n (int) number of trials\n",
    "    \"\"\"\n",
    "    \n",
    "    def __init__(self, prob = 0.5, size = 20):\n",
    "        \n",
    "        self.n = size\n",
    "        self.p = prob\n",
    "        self.mean = self.calculate_mean()\n",
    "        self.stdev = self.calculate_stdev()\n",
    "        self.data = []\n",
    "    \n",
    "    def calculate_mean(self):\n",
    "        \"\"\" Function to calculate the mean from p and n\n",
    "        \n",
    "        Args: \n",
    "            None\n",
    "        \n",
    "        Returns: \n",
    "            float: mean of the data set\n",
    "        \"\"\"\n",
    "        \n",
    "        self.mean = self.p*self.n\n",
    "        \n",
    "        return self.mean\n",
    "    \n",
    "    def calculate_stdev(self):\n",
    "        \"\"\" Function to calculate the standard deviation from p and n.\n",
    "        \n",
    "        Args: \n",
    "            None\n",
    "        \n",
    "        Returns: \n",
    "            float: standard deviation of the data set\n",
    "        \"\"\"\n",
    "        \n",
    "        self.stdev = math.sqrt(self.n*self.p*(1-self.p))\n",
    "        \n",
    "        return self.stdev\n",
    "    \n",
    "    def replace_stats_with_data(self):\n",
    "        \"\"\"Function to calculate p and n from the data set\n",
    "        \n",
    "        Args: \n",
    "            None\n",
    "        \n",
    "        Returns: \n",
    "            float: the p value\n",
    "            float: the n value\n",
    "        \"\"\"\n",
    "        \n",
    "        self.n = len(self.data)\n",
    "        self.p = 1.0*sum(self.data)/len(self.data)\n",
    "        self.mean = self.calculate_mean()\n",
    "        self.stdev = self.calculate_stdev()\n",
    "        \n",
    "        return self.p, self.n\n",
    "    \n",
    "    def read_data_file(self, file_name, sample = True):\n",
    "        \"\"\" Function to read in data from a txt file. The txt file should have\n",
    "        one number per line. The number are stored in the data attribute. \n",
    "\n",
    "        Args:\n",
    "            file_name (string): name of a file to read from\n",
    "\n",
    "        Returns: \n",
    "            None    \n",
    "        \"\"\"\n",
    "        \n",
    "        with open(file_name) as file:\n",
    "            data_list = []\n",
    "            line = file.readline()\n",
    "            while line:\n",
    "                data_list.append(int(line))\n",
    "                line = file.readline()\n",
    "        file.close()\n",
    "        \n",
    "        self.data = data_list\n",
    "        self.replace_stats_with_data()\n",
    "        \n",
    "    def plot_bar(self):\n",
    "        \"\"\" Function to output a histogram of the instance variable data using \n",
    "        matplotlib pyplot library.\n",
    "        \n",
    "        Args:\n",
    "            None\n",
    "            \n",
    "        Returns:\n",
    "            None\n",
    "        \"\"\"\n",
    "                \n",
    "        plt.bar(x = ['0','1'], height = [(1-self.p)*self.n,self.p*self.n])\n",
    "        plt.title('Bar Chart of Data')\n",
    "        plt.xlabel('outcome')\n",
    "        plt.ylabel('count')\n",
    "        \n",
    "    def pdf(self, k):\n",
    "        \"\"\" Probability density function calculator for the binomial distribution.\n",
    "        \n",
    "        Args:\n",
    "            x (float): point for calculating the probability density function\n",
    "        \n",
    "        Returns:\n",
    "            float: probability density function output\n",
    "        \"\"\"\n",
    "        \n",
    "        a = math.factorial(self.n)/(math.factorial(k)*(math.factorial(self.n-k)))\n",
    "        b = (self.p**k)*(1-self.p)**(self.n-k)\n",
    "        \n",
    "        return a*b\n",
    "    \n",
    "    def plot_bar_pdf(self):\n",
    "        \"\"\" Function to plot the pdf of the binomial distribution\n",
    "        \n",
    "        Args:\n",
    "            None\n",
    "        \n",
    "        Returns:\n",
    "            list: x values for the pdf plot\n",
    "            list: y values for the pdf plot    \n",
    "        \"\"\"\n",
    "        \n",
    "        x = []\n",
    "        y = []\n",
    "        \n",
    "        # calculate the x values to visualize\n",
    "        for i in range(self.n+1):\n",
    "            x.append(i)\n",
    "            y.append(self.pdf(i))\n",
    "\n",
    "        # make the plots\n",
    "        plt.bar(x, y)\n",
    "        plt.title('Distribution of Outcomes')\n",
    "        plt.ylabel('Probability')\n",
    "        plt.xlabel('Outcome')\n",
    "\n",
    "        plt.show()\n",
    "\n",
    "        return x, y\n",
    "    \n",
    "    def __add__(self, other):        \n",
    "        \"\"\" Function to add together two Binomial distributions with equal p\n",
    "        \n",
    "        Args:\n",
    "            other (Binomial): Binomial instance\n",
    "            \n",
    "        Returns:\n",
    "            Binomial: Binomial distribution \n",
    "        \"\"\"\n",
    "        \n",
    "        try:\n",
    "            assert self.p == other.p, 'p values are not equal'\n",
    "        except AssertionError as error:\n",
    "            raise\n",
    "        \n",
    "        result = Binomial()\n",
    "        result.n = self.n +other.n\n",
    "        result.p = self.p\n",
    "        result.calculate_mean()\n",
    "        result.calculate_stdev()\n",
    "        \n",
    "        return result\n",
    "    \n",
    "    def __repr__(self): \n",
    "        \"\"\" Function to output the characteristics of the Binomial instance\n",
    "        \n",
    "        Args:\n",
    "            None\n",
    "        \n",
    "        Returns:\n",
    "            string: characteristics of the Gaussian \n",
    "        \"\"\"\n",
    "        \n",
    "        return \"mean: {}, standard deviation: {}, p: {}, n: {}\".format(self.mean, self.stdev, self.p, self.n)"
   ]
  },
  {
   "cell_type": "code",
   "execution_count": 50,
   "metadata": {},
   "outputs": [],
   "source": [
    "binomial_one = Binomial()\n",
    "binomial_one.read_data_file('numbers_binomial.txt')"
   ]
  },
  {
   "cell_type": "code",
   "execution_count": 51,
   "metadata": {},
   "outputs": [
    {
     "data": {
      "text/plain": [
       "mean: 8.0, standard deviation: 1.7541160386140584, p: 0.6153846153846154, n: 13"
      ]
     },
     "execution_count": 51,
     "metadata": {},
     "output_type": "execute_result"
    }
   ],
   "source": [
    "binomial_one"
   ]
  },
  {
   "cell_type": "code",
   "execution_count": 52,
   "metadata": {},
   "outputs": [
    {
     "data": {
      "image/png": "[encoded data removed]",
      "text/plain": [
       "<Figure size 432x288 with 1 Axes>"
      ]
     },
     "metadata": {
      "needs_background": "light"
     },
     "output_type": "display_data"
    }
   ],
   "source": [
    "binomial_one.plot_bar()"
   ]
  },
  {
   "cell_type": "code",
   "execution_count": 53,
   "metadata": {},
   "outputs": [
    {
     "data": {
      "image/png": "[encoded data removed]",
      "text/plain": [
       "<Figure size 432x288 with 1 Axes>"
      ]
     },
     "metadata": {
      "needs_background": "light"
     },
     "output_type": "display_data"
    },
    {
     "data": {
      "text/plain": [
       "([0, 1, 2, 3, 4, 5, 6, 7, 8, 9, 10, 11, 12, 13],\n",
       " [4.030384466833637e-06,\n",
       "  8.383199691013968e-05,\n",
       "  0.0008047871703373409,\n",
       "  0.0047214180659790675,\n",
       "  0.01888567226391627,\n",
       "  0.054390736120078866,\n",
       "  0.11603357038950161,\n",
       "  0.1856537126232026,\n",
       "  0.22278445514784312,\n",
       "  0.19803062679808284,\n",
       "  0.12673960115077304,\n",
       "  0.05530455322942824,\n",
       "  0.014747880861180866,\n",
       "  0.0018151237982991838])"
      ]
     },
     "execution_count": 53,
     "metadata": {},
     "output_type": "execute_result"
    }
   ],
   "source": [
    "binomial_one.plot_bar_pdf()"
   ]
  },
  {
   "cell_type": "code",
   "execution_count": 56,
   "metadata": {},
   "outputs": [
    {
     "data": {
      "text/plain": [
       "mean: 32.0, standard deviation: 4.381780460041329, p: 0.4, n: 80"
      ]
     },
     "execution_count": 56,
     "metadata": {},
     "output_type": "execute_result"
    }
   ],
   "source": [
    "binomial_one = Binomial(.4, 20)\n",
    "binomial_two = Binomial(.4, 60)\n",
    "\n",
    "binomial_sum = binomial_one + binomial_two\n",
    "\n",
    "binomial_sum"
   ]
  },
  {
   "cell_type": "code",
   "execution_count": null,
   "metadata": {},
   "outputs": [],
   "source": []
  }
 ],
 "metadata": {
  "kernelspec": {
   "display_name": "Python 3",
   "language": "python",
   "name": "python3"
  },
  "language_info": {
   "codemirror_mode": {
    "name": "ipython",
    "version": 3
   },
   "file_extension": ".py",
   "mimetype": "text/x-python",
   "name": "python",
   "nbconvert_exporter": "python",
   "pygments_lexer": "ipython3",
   "version": "3.8.10"
  }
 },
 "nbformat": 4,
 "nbformat_minor": 4
}
